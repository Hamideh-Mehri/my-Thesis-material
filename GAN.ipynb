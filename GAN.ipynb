{
 "cells": [
  {
   "cell_type": "markdown",
   "metadata": {},
   "source": [
    "## visualize sparsity"
   ]
  },
  {
   "cell_type": "code",
   "execution_count": 1,
   "metadata": {
    "vscode": {
     "languageId": "python"
    }
   },
   "outputs": [
    {
     "name": "stderr",
     "output_type": "stream",
     "text": [
      "2023-01-31 13:06:42.415209: I tensorflow/stream_executor/platform/default/dso_loader.cc:49] Successfully opened dynamic library libcudart.so.10.1\n"
     ]
    }
   ],
   "source": [
    "from SNIP_GAN import SNIP_GAN"
   ]
  },
  {
   "cell_type": "code",
   "execution_count": 2,
   "metadata": {
    "vscode": {
     "languageId": "python"
    }
   },
   "outputs": [
    {
     "name": "stderr",
     "output_type": "stream",
     "text": [
      "2023-01-31 13:06:45.790378: I tensorflow/compiler/jit/xla_cpu_device.cc:41] Not creating XLA devices, tf_xla_enable_xla_devices not set\n",
      "2023-01-31 13:06:45.791902: I tensorflow/stream_executor/platform/default/dso_loader.cc:49] Successfully opened dynamic library libcuda.so.1\n",
      "2023-01-31 13:06:45.819551: I tensorflow/core/common_runtime/gpu/gpu_device.cc:1720] Found device 0 with properties: \n",
      "pciBusID: 0000:3b:00.0 name: Quadro RTX 8000 computeCapability: 7.5\n",
      "coreClock: 1.77GHz coreCount: 72 deviceMemorySize: 47.46GiB deviceMemoryBandwidth: 625.94GiB/s\n",
      "2023-01-31 13:06:45.819840: I tensorflow/core/common_runtime/gpu/gpu_device.cc:1720] Found device 1 with properties: \n",
      "pciBusID: 0000:af:00.0 name: Quadro RTX 8000 computeCapability: 7.5\n",
      "coreClock: 1.77GHz coreCount: 72 deviceMemorySize: 47.46GiB deviceMemoryBandwidth: 625.94GiB/s\n",
      "2023-01-31 13:06:45.819858: I tensorflow/stream_executor/platform/default/dso_loader.cc:49] Successfully opened dynamic library libcudart.so.10.1\n",
      "2023-01-31 13:06:45.821348: I tensorflow/stream_executor/platform/default/dso_loader.cc:49] Successfully opened dynamic library libcublas.so.10\n",
      "2023-01-31 13:06:45.821390: I tensorflow/stream_executor/platform/default/dso_loader.cc:49] Successfully opened dynamic library libcublasLt.so.10\n",
      "2023-01-31 13:06:45.822706: I tensorflow/stream_executor/platform/default/dso_loader.cc:49] Successfully opened dynamic library libcufft.so.10\n",
      "2023-01-31 13:06:45.822924: I tensorflow/stream_executor/platform/default/dso_loader.cc:49] Successfully opened dynamic library libcurand.so.10\n",
      "2023-01-31 13:06:45.824369: I tensorflow/stream_executor/platform/default/dso_loader.cc:49] Successfully opened dynamic library libcusolver.so.10\n",
      "2023-01-31 13:06:45.825153: I tensorflow/stream_executor/platform/default/dso_loader.cc:49] Successfully opened dynamic library libcusparse.so.10\n",
      "2023-01-31 13:06:45.828225: I tensorflow/stream_executor/platform/default/dso_loader.cc:49] Successfully opened dynamic library libcudnn.so.7\n",
      "2023-01-31 13:06:45.828894: I tensorflow/core/common_runtime/gpu/gpu_device.cc:1862] Adding visible gpu devices: 0, 1\n",
      "2023-01-31 13:06:45.829397: I tensorflow/core/platform/cpu_feature_guard.cc:142] This TensorFlow binary is optimized with oneAPI Deep Neural Network Library (oneDNN) to use the following CPU instructions in performance-critical operations:  SSE4.1 SSE4.2 AVX AVX2 AVX512F FMA\n",
      "To enable them in other operations, rebuild TensorFlow with the appropriate compiler flags.\n",
      "2023-01-31 13:06:45.830870: I tensorflow/compiler/jit/xla_gpu_device.cc:99] Not creating XLA devices, tf_xla_enable_xla_devices not set\n",
      "2023-01-31 13:06:45.985545: I tensorflow/core/common_runtime/gpu/gpu_device.cc:1720] Found device 0 with properties: \n",
      "pciBusID: 0000:3b:00.0 name: Quadro RTX 8000 computeCapability: 7.5\n",
      "coreClock: 1.77GHz coreCount: 72 deviceMemorySize: 47.46GiB deviceMemoryBandwidth: 625.94GiB/s\n",
      "2023-01-31 13:06:45.985727: I tensorflow/core/common_runtime/gpu/gpu_device.cc:1720] Found device 1 with properties: \n",
      "pciBusID: 0000:af:00.0 name: Quadro RTX 8000 computeCapability: 7.5\n",
      "coreClock: 1.77GHz coreCount: 72 deviceMemorySize: 47.46GiB deviceMemoryBandwidth: 625.94GiB/s\n",
      "2023-01-31 13:06:45.985750: I tensorflow/stream_executor/platform/default/dso_loader.cc:49] Successfully opened dynamic library libcudart.so.10.1\n",
      "2023-01-31 13:06:45.985776: I tensorflow/stream_executor/platform/default/dso_loader.cc:49] Successfully opened dynamic library libcublas.so.10\n",
      "2023-01-31 13:06:45.985783: I tensorflow/stream_executor/platform/default/dso_loader.cc:49] Successfully opened dynamic library libcublasLt.so.10\n",
      "2023-01-31 13:06:45.985790: I tensorflow/stream_executor/platform/default/dso_loader.cc:49] Successfully opened dynamic library libcufft.so.10\n",
      "2023-01-31 13:06:45.985797: I tensorflow/stream_executor/platform/default/dso_loader.cc:49] Successfully opened dynamic library libcurand.so.10\n",
      "2023-01-31 13:06:45.985804: I tensorflow/stream_executor/platform/default/dso_loader.cc:49] Successfully opened dynamic library libcusolver.so.10\n",
      "2023-01-31 13:06:45.985812: I tensorflow/stream_executor/platform/default/dso_loader.cc:49] Successfully opened dynamic library libcusparse.so.10\n",
      "2023-01-31 13:06:45.985820: I tensorflow/stream_executor/platform/default/dso_loader.cc:49] Successfully opened dynamic library libcudnn.so.7\n",
      "2023-01-31 13:06:45.986331: I tensorflow/core/common_runtime/gpu/gpu_device.cc:1862] Adding visible gpu devices: 0, 1\n",
      "2023-01-31 13:06:45.986355: I tensorflow/stream_executor/platform/default/dso_loader.cc:49] Successfully opened dynamic library libcudart.so.10.1\n",
      "2023-01-31 13:06:46.735608: I tensorflow/core/common_runtime/gpu/gpu_device.cc:1261] Device interconnect StreamExecutor with strength 1 edge matrix:\n",
      "2023-01-31 13:06:46.735641: I tensorflow/core/common_runtime/gpu/gpu_device.cc:1267]      0 1 \n",
      "2023-01-31 13:06:46.735645: I tensorflow/core/common_runtime/gpu/gpu_device.cc:1280] 0:   N Y \n",
      "2023-01-31 13:06:46.735647: I tensorflow/core/common_runtime/gpu/gpu_device.cc:1280] 1:   Y N \n",
      "2023-01-31 13:06:46.736416: I tensorflow/core/common_runtime/gpu/gpu_device.cc:1406] Created TensorFlow device (/job:localhost/replica:0/task:0/device:GPU:0 with 1891 MB memory) -> physical GPU (device: 0, name: Quadro RTX 8000, pci bus id: 0000:3b:00.0, compute capability: 7.5)\n",
      "2023-01-31 13:06:46.737098: I tensorflow/core/common_runtime/gpu/gpu_device.cc:1406] Created TensorFlow device (/job:localhost/replica:0/task:0/device:GPU:1 with 45103 MB memory) -> physical GPU (device: 1, name: Quadro RTX 8000, pci bus id: 0000:af:00.0, compute capability: 7.5)\n",
      "2023-01-31 13:06:47.716827: I tensorflow/stream_executor/platform/default/dso_loader.cc:49] Successfully opened dynamic library libcublas.so.10\n",
      "2023-01-31 13:06:47.911497: I tensorflow/stream_executor/platform/default/dso_loader.cc:49] Successfully opened dynamic library libcudnn.so.7\n"
     ]
    }
   ],
   "source": [
    "import tensorflow as tf \n",
    "from ArchGan import load_network\n",
    "with tf.device('/gpu:1'):\n",
    "    (train_images, train_labels), (_, _) = tf.keras.datasets.mnist.load_data()\n",
    "    train_images = train_images.reshape(train_images.shape[0], 28, 28, 1).astype('float32')\n",
    "    train_images = (train_images-127.5)/127.5\n",
    "\n",
    "    BUFFER_SIZE = 60000\n",
    "    BATCH_SIZE = 200\n",
    "    # Batch and shuffle the data\n",
    "    train_dataset = tf.data.Dataset.from_tensor_slices(train_images).shuffle(BUFFER_SIZE).batch(BATCH_SIZE)\n",
    "    #load model\n",
    "    datasource = 'mnist'\n",
    "    arch = 'dcgan_mnist'\n",
    "    latent_dim = 100\n",
    "    initializer1 = tf.initializers.variance_scaling()\n",
    "    initializer2 = tf.initializers.variance_scaling()\n",
    "    model = load_network(datasource, arch, latent_dim,BATCH_SIZE, initializer1, initializer2)\n",
    "    #load pruned weights\n",
    "    target_sparsity = 0.9\n",
    "    batchtype = 'equal'\n",
    "    final_w_disc, mask_disc, final_w_gen, mask_gen = SNIP_GAN(model, target_sparsity, BATCH_SIZE, batchtype)"
   ]
  },
  {
   "cell_type": "code",
   "execution_count": null,
   "metadata": {
    "vscode": {
     "languageId": "python"
    }
   },
   "outputs": [],
   "source": []
  },
  {
   "cell_type": "code",
   "execution_count": 6,
   "metadata": {
    "vscode": {
     "languageId": "python"
    }
   },
   "outputs": [],
   "source": [
    "#build_generator\n",
    "generator = model.make_layers_gen(final_w_gen, mask_gen)\n",
    "#build discriminator\n",
    "discriminator = model.make_layers_disc(final_w_disc, mask_disc)\n",
    "\n"
   ]
  },
  {
   "cell_type": "code",
   "execution_count": 3,
   "metadata": {
    "vscode": {
     "languageId": "python"
    }
   },
   "outputs": [],
   "source": [
    "import functools\n",
    "def get_sparsity_of_layers(weight):\n",
    "    keylist = weight.keys()\n",
    "    sparsity_layer_dic = {}\n",
    "    for key in keylist:\n",
    "        num_all_parameter = functools.reduce(lambda x, y: x*y, weight[key].shape)\n",
    "        nonzero_parameter = tf.math.count_nonzero(weight[key]).numpy()\n",
    "        zero_parameter = num_all_parameter - nonzero_parameter\n",
    "        percent_of_sparsity = round((zero_parameter/num_all_parameter) * 100, 1)\n",
    "        sparsity_layer_dic[key] = percent_of_sparsity\n",
    "    return sparsity_layer_dic"
   ]
  },
  {
   "cell_type": "code",
   "execution_count": 16,
   "metadata": {
    "vscode": {
     "languageId": "python"
    }
   },
   "outputs": [],
   "source": [
    "def get_sparsity_of_layers(weight):\n",
    "    keylist = weight.keys()\n",
    "    sparsity_layer_dic = {}\n",
    "    for key in keylist:\n",
    "        num_all_parameter = functools.reduce(lambda x, y: x*y, weight[key].shape)\n",
    "        nonzero_parameter = tf.math.count_nonzero(weight[key]).numpy()\n",
    "        zero_parameter = num_all_parameter - nonzero_parameter\n",
    "        percent_of_sparsity = round((zero_parameter/num_all_parameter) * 100, 1)\n",
    "        sparsity_layer_dic[key] = percent_of_sparsity\n",
    "    return sparsity_layer_dic"
   ]
  },
  {
   "cell_type": "code",
   "execution_count": 4,
   "metadata": {
    "vscode": {
     "languageId": "python"
    }
   },
   "outputs": [],
   "source": [
    "def get_labels(sparsitydic, net):\n",
    "  keylist = list(sparsitydic.keys())\n",
    "  labels =[]\n",
    "  for key in keylist:\n",
    "    labels.append(key + '_' + net)\n",
    "  return labels"
   ]
  },
  {
   "cell_type": "code",
   "execution_count": 5,
   "metadata": {
    "vscode": {
     "languageId": "python"
    }
   },
   "outputs": [
    {
     "data": {
      "text/plain": [
       "({'w1_conv': 24.6,\n",
       "  'w2_conv': 73.2,\n",
       "  'w3_conv': 84.4,\n",
       "  'w4_conv': 92.8,\n",
       "  'w5_fc': 24.5},\n",
       " {'w1_fc': 99.9,\n",
       "  'w2_Dconv': 88.8,\n",
       "  'w3_Dconv': 73.2,\n",
       "  'w4_Dconv': 46.4,\n",
       "  'w5_Dconv': 11.0})"
      ]
     },
     "execution_count": 5,
     "metadata": {},
     "output_type": "execute_result"
    }
   ],
   "source": [
    "sparsitydic_disc = get_sparsity_of_layers(final_w_disc)\n",
    "sparsitydic_gen = get_sparsity_of_layers(final_w_gen)\n",
    "sparsitydic_disc, sparsitydic_gen"
   ]
  },
  {
   "cell_type": "code",
   "execution_count": 28,
   "metadata": {
    "vscode": {
     "languageId": "python"
    }
   },
   "outputs": [
    {
     "data": {
      "image/png": "[encoded data removed]",
      "text/plain": [
       "<Figure size 1600x1000 with 1 Axes>"
      ]
     },
     "metadata": {},
     "output_type": "display_data"
    }
   ],
   "source": [
    "import numpy as np\n",
    "import copy\n",
    "import matplotlib.pyplot as plt \n",
    "sparsity_percent_values_disc = list(sparsitydic_disc.values())\n",
    "sparsity_percent_values_gen = list(sparsitydic_gen.values())\n",
    "sparsity_percent_values = sparsity_percent_values_disc + sparsity_percent_values_gen\n",
    "keylist_disc = list(sparsitydic_disc.keys())\n",
    "keylist_gen = list(sparsitydic_gen.keys())\n",
    "keylist = keylist_disc + keylist_gen\n",
    "num_layerparameters_disc = len(keylist_disc)\n",
    "num_layerparameters_gen = len(keylist_gen)\n",
    "num_layerparameters = num_layerparameters_disc + num_layerparameters_gen\n",
    "x = np.arange(1, num_layerparameters+1)\n",
    "y = sparsity_percent_values\n",
    "sizes = [i*5 for i in y]\n",
    "labels_disc  = get_labels(sparsitydic_disc, 'disc')\n",
    "labels_gen  = get_labels(sparsitydic_gen, 'gen')\n",
    "labels = labels_disc + labels_gen\n",
    "sizes_copy = copy.deepcopy(sizes)\n",
    "sizes_copy.reverse()\n",
    "plt.figure(figsize=(16, 10))\n",
    "plt.scatter(x, y, s=sizes, cmap = 'Purples', c = sizes, edgecolors='black')\n",
    "plt.xticks(x, labels, fontsize=20, rotation=90)\n",
    "plt.yticks(np.arange(10, 110, 10))\n",
    "title = arch + datasource + str(target_sparsity) + 'percent sparsity' + 'snipgan' + 'method'\n",
    "plt.title(title)\n",
    "plt.show()\n"
   ]
  },
  {
   "cell_type": "code",
   "execution_count": 18,
   "metadata": {
    "vscode": {
     "languageId": "python"
    }
   },
   "outputs": [
    {
     "data": {
      "image/png": "[encoded data removed]",
      "text/plain": [
       "<Figure size 1600x1000 with 1 Axes>"
      ]
     },
     "metadata": {},
     "output_type": "display_data"
    }
   ],
   "source": [
    "import numpy as np\n",
    "import copy\n",
    "import matplotlib.pyplot as plt \n",
    "sparsity_percent_values_disc = list(sparsitydic_disc.values())\n",
    "keylist_disc = list(sparsitydic_disc.keys())\n",
    "num_layerparameters_disc = len(keylist_disc)\n",
    "x = np.arange(1, num_layerparameters_disc+1)\n",
    "y = sparsity_percent_values_disc\n",
    "sizes = [i*5 for i in y]\n",
    "labels = keylist_disc\n",
    "sizes_copy = copy.deepcopy(sizes)\n",
    "sizes_copy.reverse()\n",
    "plt.figure(figsize=(16, 10))\n",
    "plt.scatter(x, y, s=sizes, cmap = 'Purples', c = sizes, edgecolors='black')\n",
    "plt.xticks(x, labels, fontsize=20, rotation=90)\n",
    "plt.yticks(np.arange(10, 110, 10))\n",
    "title = arch + datasource + str(target_sparsity) + 'percent sparsity' + 'snipgan' + 'method'\n",
    "plt.title(title)\n",
    "plt.show()"
   ]
  },
  {
   "cell_type": "code",
   "execution_count": null,
   "metadata": {
    "vscode": {
     "languageId": "python"
    }
   },
   "outputs": [],
   "source": []
  },
  {
   "cell_type": "markdown",
   "metadata": {},
   "source": [
    "### Inception Score example"
   ]
  },
  {
   "cell_type": "code",
   "execution_count": 4,
   "metadata": {
    "vscode": {
     "languageId": "python"
    }
   },
   "outputs": [],
   "source": [
    "# conditional probabilities for high quality images\n",
    "import numpy as np\n",
    "p_yx = np.asarray([[1.0, 0.0, 0.0], [0.0, 1.0, 0.0], [0.0, 0.0, 1.0]])"
   ]
  },
  {
   "cell_type": "code",
   "execution_count": 5,
   "metadata": {
    "vscode": {
     "languageId": "python"
    }
   },
   "outputs": [],
   "source": [
    "p_y = np.expand_dims(p_yx.mean(axis=0), 0)"
   ]
  },
  {
   "cell_type": "code",
   "execution_count": 6,
   "metadata": {
    "vscode": {
     "languageId": "python"
    }
   },
   "outputs": [
    {
     "data": {
      "text/plain": [
       "array([[0.33333333, 0.33333333, 0.33333333]])"
      ]
     },
     "execution_count": 6,
     "metadata": {},
     "output_type": "execute_result"
    }
   ],
   "source": [
    "p_y"
   ]
  },
  {
   "cell_type": "code",
   "execution_count": 7,
   "metadata": {
    "vscode": {
     "languageId": "python"
    }
   },
   "outputs": [],
   "source": [
    "eps=1E-16"
   ]
  },
  {
   "cell_type": "code",
   "execution_count": 8,
   "metadata": {
    "vscode": {
     "languageId": "python"
    }
   },
   "outputs": [],
   "source": [
    "# kl divergence for each image\n",
    "kl_d = p_yx * (np.log(p_yx + eps) - np.log(p_y + eps))"
   ]
  },
  {
   "cell_type": "code",
   "execution_count": 9,
   "metadata": {
    "vscode": {
     "languageId": "python"
    }
   },
   "outputs": [],
   "source": [
    "# sum over classes\n",
    "sum_kl_d = kl_d.sum(axis=1)\n",
    "# average over images\n",
    "avg_kl_d = np.mean(sum_kl_d)\n",
    "is_score = tf.math.exp(avg_kl_d)"
   ]
  },
  {
   "cell_type": "code",
   "execution_count": null,
   "metadata": {
    "vscode": {
     "languageId": "python"
    }
   },
   "outputs": [],
   "source": [
    "is_score"
   ]
  },
  {
   "cell_type": "code",
   "execution_count": 8,
   "metadata": {
    "vscode": {
     "languageId": "python"
    }
   },
   "outputs": [
    {
     "data": {
      "text/plain": [
       "array([[ 1.09861229, -0.        , -0.        ],\n",
       "       [-0.        ,  1.09861229, -0.        ],\n",
       "       [-0.        , -0.        ,  1.09861229]])"
      ]
     },
     "execution_count": 8,
     "metadata": {},
     "output_type": "execute_result"
    }
   ],
   "source": [
    "kl_d"
   ]
  },
  {
   "cell_type": "code",
   "execution_count": 1,
   "metadata": {
    "vscode": {
     "languageId": "python"
    }
   },
   "outputs": [
    {
     "name": "stderr",
     "output_type": "stream",
     "text": [
      "2023-01-15 17:15:44.684643: I tensorflow/stream_executor/platform/default/dso_loader.cc:49] Successfully opened dynamic library libcudart.so.10.1\n"
     ]
    }
   ],
   "source": [
    "from Data import Dataset\n",
    "dat = Dataset('mnist')"
   ]
  },
  {
   "cell_type": "markdown",
   "metadata": {},
   "source": [
    "## Test"
   ]
  },
  {
   "cell_type": "code",
   "execution_count": 1,
   "metadata": {
    "vscode": {
     "languageId": "python"
    }
   },
   "outputs": [],
   "source": [
    "from utils import get_config_from_json\n",
    "\n",
    "configs, _ = get_config_from_json('./config/VGG/config_test.json')"
   ]
  },
  {
   "cell_type": "code",
   "execution_count": 2,
   "metadata": {
    "vscode": {
     "languageId": "python"
    }
   },
   "outputs": [
    {
     "name": "stderr",
     "output_type": "stream",
     "text": [
      "2023-01-28 00:29:49.429830: I tensorflow/stream_executor/platform/default/dso_loader.cc:49] Successfully opened dynamic library libcudart.so.10.1\n"
     ]
    }
   ],
   "source": [
    "from Data import Dataset, generate_tensordata\n",
    "from Arch import load_network\n",
    "import tensorflow as tf"
   ]
  },
  {
   "cell_type": "code",
   "execution_count": 3,
   "metadata": {
    "vscode": {
     "languageId": "python"
    }
   },
   "outputs": [
    {
     "name": "stderr",
     "output_type": "stream",
     "text": [
      "2023-01-28 00:29:55.041801: I tensorflow/compiler/jit/xla_cpu_device.cc:41] Not creating XLA devices, tf_xla_enable_xla_devices not set\n",
      "2023-01-28 00:29:55.042700: I tensorflow/stream_executor/platform/default/dso_loader.cc:49] Successfully opened dynamic library libcuda.so.1\n",
      "2023-01-28 00:29:55.070756: I tensorflow/core/common_runtime/gpu/gpu_device.cc:1720] Found device 0 with properties: \n",
      "pciBusID: 0000:3b:00.0 name: Quadro RTX 8000 computeCapability: 7.5\n",
      "coreClock: 1.77GHz coreCount: 72 deviceMemorySize: 47.46GiB deviceMemoryBandwidth: 625.94GiB/s\n",
      "2023-01-28 00:29:55.071137: I tensorflow/core/common_runtime/gpu/gpu_device.cc:1720] Found device 1 with properties: \n",
      "pciBusID: 0000:af:00.0 name: Quadro RTX 8000 computeCapability: 7.5\n",
      "coreClock: 1.77GHz coreCount: 72 deviceMemorySize: 47.46GiB deviceMemoryBandwidth: 625.94GiB/s\n",
      "2023-01-28 00:29:55.071164: I tensorflow/stream_executor/platform/default/dso_loader.cc:49] Successfully opened dynamic library libcudart.so.10.1\n",
      "2023-01-28 00:29:55.072799: I tensorflow/stream_executor/platform/default/dso_loader.cc:49] Successfully opened dynamic library libcublas.so.10\n",
      "2023-01-28 00:29:55.072842: I tensorflow/stream_executor/platform/default/dso_loader.cc:49] Successfully opened dynamic library libcublasLt.so.10\n",
      "2023-01-28 00:29:55.074449: I tensorflow/stream_executor/platform/default/dso_loader.cc:49] Successfully opened dynamic library libcufft.so.10\n",
      "2023-01-28 00:29:55.074663: I tensorflow/stream_executor/platform/default/dso_loader.cc:49] Successfully opened dynamic library libcurand.so.10\n",
      "2023-01-28 00:29:55.076213: I tensorflow/stream_executor/platform/default/dso_loader.cc:49] Successfully opened dynamic library libcusolver.so.10\n",
      "2023-01-28 00:29:55.076964: I tensorflow/stream_executor/platform/default/dso_loader.cc:49] Successfully opened dynamic library libcusparse.so.10\n",
      "2023-01-28 00:29:55.080171: I tensorflow/stream_executor/platform/default/dso_loader.cc:49] Successfully opened dynamic library libcudnn.so.7\n",
      "2023-01-28 00:29:55.080795: I tensorflow/core/common_runtime/gpu/gpu_device.cc:1862] Adding visible gpu devices: 0, 1\n",
      "2023-01-28 00:29:55.081121: I tensorflow/core/platform/cpu_feature_guard.cc:142] This TensorFlow binary is optimized with oneAPI Deep Neural Network Library (oneDNN) to use the following CPU instructions in performance-critical operations:  SSE4.1 SSE4.2 AVX AVX2 AVX512F FMA\n",
      "To enable them in other operations, rebuild TensorFlow with the appropriate compiler flags.\n",
      "2023-01-28 00:29:55.082458: I tensorflow/compiler/jit/xla_gpu_device.cc:99] Not creating XLA devices, tf_xla_enable_xla_devices not set\n",
      "2023-01-28 00:29:55.321311: I tensorflow/core/common_runtime/gpu/gpu_device.cc:1720] Found device 0 with properties: \n",
      "pciBusID: 0000:3b:00.0 name: Quadro RTX 8000 computeCapability: 7.5\n",
      "coreClock: 1.77GHz coreCount: 72 deviceMemorySize: 47.46GiB deviceMemoryBandwidth: 625.94GiB/s\n",
      "2023-01-28 00:29:55.321490: I tensorflow/core/common_runtime/gpu/gpu_device.cc:1720] Found device 1 with properties: \n",
      "pciBusID: 0000:af:00.0 name: Quadro RTX 8000 computeCapability: 7.5\n",
      "coreClock: 1.77GHz coreCount: 72 deviceMemorySize: 47.46GiB deviceMemoryBandwidth: 625.94GiB/s\n",
      "2023-01-28 00:29:55.321511: I tensorflow/stream_executor/platform/default/dso_loader.cc:49] Successfully opened dynamic library libcudart.so.10.1\n",
      "2023-01-28 00:29:55.321532: I tensorflow/stream_executor/platform/default/dso_loader.cc:49] Successfully opened dynamic library libcublas.so.10\n",
      "2023-01-28 00:29:55.321538: I tensorflow/stream_executor/platform/default/dso_loader.cc:49] Successfully opened dynamic library libcublasLt.so.10\n",
      "2023-01-28 00:29:55.321545: I tensorflow/stream_executor/platform/default/dso_loader.cc:49] Successfully opened dynamic library libcufft.so.10\n",
      "2023-01-28 00:29:55.321551: I tensorflow/stream_executor/platform/default/dso_loader.cc:49] Successfully opened dynamic library libcurand.so.10\n",
      "2023-01-28 00:29:55.321557: I tensorflow/stream_executor/platform/default/dso_loader.cc:49] Successfully opened dynamic library libcusolver.so.10\n",
      "2023-01-28 00:29:55.321563: I tensorflow/stream_executor/platform/default/dso_loader.cc:49] Successfully opened dynamic library libcusparse.so.10\n",
      "2023-01-28 00:29:55.321569: I tensorflow/stream_executor/platform/default/dso_loader.cc:49] Successfully opened dynamic library libcudnn.so.7\n",
      "2023-01-28 00:29:55.322054: I tensorflow/core/common_runtime/gpu/gpu_device.cc:1862] Adding visible gpu devices: 0, 1\n",
      "2023-01-28 00:29:55.322083: I tensorflow/stream_executor/platform/default/dso_loader.cc:49] Successfully opened dynamic library libcudart.so.10.1\n",
      "2023-01-28 00:29:56.003624: I tensorflow/core/common_runtime/gpu/gpu_device.cc:1261] Device interconnect StreamExecutor with strength 1 edge matrix:\n",
      "2023-01-28 00:29:56.003657: I tensorflow/core/common_runtime/gpu/gpu_device.cc:1267]      0 1 \n",
      "2023-01-28 00:29:56.003662: I tensorflow/core/common_runtime/gpu/gpu_device.cc:1280] 0:   N Y \n",
      "2023-01-28 00:29:56.003664: I tensorflow/core/common_runtime/gpu/gpu_device.cc:1280] 1:   Y N \n",
      "2023-01-28 00:29:56.004431: I tensorflow/core/common_runtime/gpu/gpu_device.cc:1406] Created TensorFlow device (/job:localhost/replica:0/task:0/device:GPU:0 with 45381 MB memory) -> physical GPU (device: 0, name: Quadro RTX 8000, pci bus id: 0000:3b:00.0, compute capability: 7.5)\n",
      "2023-01-28 00:29:56.005105: I tensorflow/core/common_runtime/gpu/gpu_device.cc:1406] Created TensorFlow device (/job:localhost/replica:0/task:0/device:GPU:1 with 45390 MB memory) -> physical GPU (device: 1, name: Quadro RTX 8000, pci bus id: 0000:af:00.0, compute capability: 7.5)\n"
     ]
    }
   ],
   "source": [
    "initializerdic = {'varianceScaling': tf.initializers.variance_scaling(), 'HeNormal': tf.keras.initializers.HeNormal()}\n",
    "batch_size = configs.batch_size\n",
    "batch_size_for_prune = configs.batch_size_for_prune\n",
    "datasource = configs.datasource\n",
    "optimizer = configs.optimizer\n",
    "lr_decay_type = configs.lr_decay_type\n",
    "learning_rate = configs.learning_rate\n",
    "boundaries = configs.boundaries\n",
    "values = configs.values\n",
    "train_iterations = configs.train_iterations\n",
    "arch = configs.arch\n",
    "initializer1= initializerdic[configs.initializer_conv]\n",
    "initializer2= initializerdic[configs.initializer_dense]\n",
    "#pruning_method = configs.pruning_method\n",
    "batchtype = configs.batchtype\n",
    "target_sparsity = configs.target_sparsity\n",
    "prune_epoch = configs.pruning_epoch\n",
    "experiment = configs.experiment\n",
    "\n",
    "\n",
    "tensordata_train = generate_tensordata(datasource, 'train')\n",
    "tensordata_val = generate_tensordata(datasource, 'val')\n",
    "tensordata_test = generate_tensordata(datasource, 'test')\n",
    "\n",
    "dat = Dataset(datasource)\n",
    "num_classes = dat.num_classes\n",
    "\n",
    "model = load_network(datasource, arch, num_classes, initializer1, initializer2)\n",
    "weights = model.construct_weights(True)"
   ]
  },
  {
   "cell_type": "code",
   "execution_count": 4,
   "metadata": {
    "vscode": {
     "languageId": "python"
    }
   },
   "outputs": [
    {
     "name": "stderr",
     "output_type": "stream",
     "text": [
      "2023-01-28 00:30:05.877196: I tensorflow/stream_executor/platform/default/dso_loader.cc:49] Successfully opened dynamic library libcudnn.so.7\n",
      "2023-01-28 00:30:07.016444: I tensorflow/stream_executor/platform/default/dso_loader.cc:49] Successfully opened dynamic library libcublas.so.10\n"
     ]
    }
   ],
   "source": [
    "from SNIP import SNIP\n",
    "with tf.device('/gpu:1'):\n",
    "   final_mask, final_weight = SNIP(model, target_sparsity, batch_size_for_prune, batchtype)\n",
    "   net = model.make_layers(final_weight)"
   ]
  },
  {
   "cell_type": "code",
   "execution_count": 5,
   "metadata": {
    "vscode": {
     "languageId": "python"
    }
   },
   "outputs": [
    {
     "data": {
      "text/plain": [
       "dict_keys(['w1_conv', 'w2_conv', 'w3_conv', 'w4_conv', 'w5_conv', 'w6_conv', 'w7_conv', 'w8_conv', 'w9_conv', 'w10_conv', 'w11_conv', 'w12_conv', 'w13_conv', 'w14_fc', 'b3_conv', 'b2_conv', 'b14_fc', 'b7_conv', 'b8_conv', 'b13_conv', 'b1_conv', 'b12_conv', 'b9_conv', 'b6_conv', 'b11_conv', 'b10_conv', 'b4_conv', 'b5_conv'])"
      ]
     },
     "execution_count": 5,
     "metadata": {},
     "output_type": "execute_result"
    }
   ],
   "source": [
    "final_mask.keys()"
   ]
  },
  {
   "cell_type": "code",
   "execution_count": 6,
   "metadata": {
    "vscode": {
     "languageId": "python"
    }
   },
   "outputs": [
    {
     "data": {
      "text/plain": [
       "dict_keys(['w1_conv', 'w2_conv', 'w3_conv', 'w4_conv', 'w5_conv', 'w6_conv', 'w7_conv', 'w8_conv', 'w9_conv', 'w10_conv', 'w11_conv', 'w12_conv', 'w13_conv', 'w14_fc', 'b3_conv', 'b2_conv', 'b14_fc', 'b7_conv', 'b8_conv', 'b13_conv', 'b1_conv', 'b9_conv', 'b12_conv', 'b6_conv', 'b11_conv', 'b10_conv', 'b4_conv', 'b5_conv'])"
      ]
     },
     "execution_count": 6,
     "metadata": {},
     "output_type": "execute_result"
    }
   ],
   "source": [
    "final_weight.keys()"
   ]
  },
  {
   "cell_type": "code",
   "execution_count": 13,
   "metadata": {
    "vscode": {
     "languageId": "python"
    }
   },
   "outputs": [],
   "source": [
    "weights = net.weights"
   ]
  },
  {
   "cell_type": "code",
   "execution_count": 17,
   "metadata": {
    "vscode": {
     "languageId": "python"
    }
   },
   "outputs": [
    {
     "data": {
      "text/plain": [
       "'w1:0'"
      ]
     },
     "execution_count": 17,
     "metadata": {},
     "output_type": "execute_result"
    }
   ],
   "source": [
    "weights[0].name"
   ]
  },
  {
   "cell_type": "code",
   "execution_count": 10,
   "metadata": {
    "vscode": {
     "languageId": "python"
    }
   },
   "outputs": [
    {
     "data": {
      "text/plain": [
       "54"
      ]
     },
     "execution_count": 10,
     "metadata": {},
     "output_type": "execute_result"
    }
   ],
   "source": [
    "len(net.trainable_weights)"
   ]
  },
  {
   "cell_type": "code",
   "execution_count": 6,
   "metadata": {
    "vscode": {
     "languageId": "python"
    }
   },
   "outputs": [],
   "source": [
    "import re\n",
    "def find_and_truncate(string):\n",
    "    pattern = '^(w|b)[0-9]{1,2}:\\d$'\n",
    "    match = re.search(pattern, string)\n",
    "    if match:\n",
    "        truncated_string = string.split(':')[0]\n",
    "        return truncated_string\n",
    "    return False\n"
   ]
  },
  {
   "cell_type": "code",
   "execution_count": 7,
   "metadata": {
    "vscode": {
     "languageId": "python"
    }
   },
   "outputs": [],
   "source": [
    "weightlist = []\n",
    "for i in range(len(weights)):\n",
    "    if find_and_truncate(weights[i].name):\n",
    "        weightlist.append(find_and_truncate(weights[i].name))"
   ]
  },
  {
   "cell_type": "code",
   "execution_count": null,
   "metadata": {
    "vscode": {
     "languageId": "python"
    }
   },
   "outputs": [],
   "source": [
    "weightlist"
   ]
  },
  {
   "cell_type": "code",
   "execution_count": 8,
   "metadata": {
    "vscode": {
     "languageId": "python"
    }
   },
   "outputs": [],
   "source": [
    "global_step = tf.Variable(0, trainable=False)\n",
    "learning_rate_fn = tf.keras.optimizers.schedules.PiecewiseConstantDecay(boundaries, values)\n",
    "lr = learning_rate_fn(global_step)\n",
    "optimizer = tf.keras.optimizers.SGD(lr, momentum=0.9)\n",
    "loss_fn = tf.keras.losses.SparseCategoricalCrossentropy(from_logits=True)"
   ]
  },
  {
   "cell_type": "code",
   "execution_count": 10,
   "metadata": {
    "vscode": {
     "languageId": "python"
    }
   },
   "outputs": [
    {
     "name": "stdout",
     "output_type": "stream",
     "text": [
      "Training loss/validation loss at iteration 100: 1.2864/ 2.6536\n",
      "train acc/validation acc at iteration 100: 0.5218/0.3257 \n",
      "Time taken: 18.63s\n",
      "Seen so far: 25600 samples\n",
      "\n",
      "\n",
      "Training loss/validation loss at end of epoch 1 (iteration 176): 1.2864/ 2.6536\n",
      "\n",
      "Training loss/validation loss at iteration 200: 1.1391/ 1.8925\n",
      "train acc/validation acc at iteration 200: 0.5877/0.4496 \n",
      "Time taken: 14.82s\n",
      "Seen so far: 51200 samples\n",
      "\n",
      "Training loss/validation loss at iteration 300: 1.0177/ 1.7623\n",
      "train acc/validation acc at iteration 300: 0.6376/0.5120 \n",
      "Time taken: 14.73s\n",
      "Seen so far: 76800 samples\n",
      "\n",
      "\n",
      "Training loss/validation loss at end of epoch 2 (iteration 352): 1.0177/ 1.7623\n",
      "\n",
      "Training loss/validation loss at iteration 400: 0.9294/ 1.4632\n",
      "train acc/validation acc at iteration 400: 0.6696/0.5642 \n",
      "Time taken: 14.88s\n",
      "Seen so far: 102400 samples\n",
      "\n",
      "Training loss/validation loss at iteration 500: 0.8659/ 1.3188\n",
      "train acc/validation acc at iteration 500: 0.6943/0.5988 \n",
      "Time taken: 14.95s\n",
      "Seen so far: 128000 samples\n",
      "\n",
      "Test set accuracy: 62.612%\n"
     ]
    }
   ],
   "source": [
    "import time\n",
    "from augment import augment\n",
    "\n",
    "\n",
    "train_sample = dat.num_example['train']\n",
    "start_time = time.time()\n",
    "epoch = 0\n",
    "train_itaration = 500\n",
    "batchsize = 256\n",
    "train_acc_metric = tf.keras.metrics.SparseCategoricalAccuracy()\n",
    "val_acc_metric = tf.keras.metrics.SparseCategoricalAccuracy()\n",
    "\n",
    "train_loss_avg = tf.keras.metrics.Mean()\n",
    "val_loss_avg = tf.keras.metrics.Mean()\n",
    "\n",
    "plot_train_loss = []\n",
    "plot_train_acc = []\n",
    "plot_val_loss = []\n",
    "plot_val_acc = []\n",
    "\n",
    "#checkpoint\n",
    "# ckpt.restore(manager.latest_checkpoint)\n",
    "# if manager.latest_checkpoint:\n",
    "#    print(\"Restored from {}\".format(manager.latest_checkpoint))\n",
    "# else:\n",
    "#    print(\"Initializing from scratch.\")\n",
    "\n",
    "\n",
    "datagen = augment()\n",
    "x_train, y_train = next(iter(tensordata_train.batch(train_sample)))\n",
    "datagen.fit(x_train)\n",
    "for itr in range(train_itaration):\n",
    "    #x_batch_train, y_batch_train = augment(*next(iter(tensordata_train.batch(self.batchsize))))\n",
    "    #x_batch_train, y_batch_train = next(iter(tensordata_train.batch(self.batchsize)))\n",
    "    x, y = next(iter(datagen.flow(x_train, y_train, batch_size=batchsize)))\n",
    "    x_batch_train, y_batch_train = tf.convert_to_tensor(x), tf.convert_to_tensor(y)\n",
    "    with tf.GradientTape() as tape:\n",
    "        logits = net(x_batch_train, training=True)\n",
    "        #reg_term = 0.000008 * tf.reduce_sum([tf.reduce_sum(tf.square(v)) for v in net.trainable_weights])\n",
    "        #reg_term = 0.000008 * tf.reduce_sum([tf.reduce_sum(tf.abs(v)) for v in net.trainable_weights])\n",
    "        #loss_value = loss_fn(y_batch_train, logits) + reg_term\n",
    "        loss_value = loss_fn(y_batch_train, logits)\n",
    "    \n",
    "    grads = tape.gradient(loss_value, net.trainable_weights)\n",
    "    \n",
    "    x_batch_val, y_batch_val = next(iter(tensordata_val.batch(batchsize)))\n",
    "    logits_val = net(x_batch_val)\n",
    "    loss_val = loss_fn(y_batch_val, logits_val)\n",
    "    loss_train = loss_fn(y_batch_train, logits)\n",
    "    #first mask net.trainable_weights and then apply gradients\n",
    "    optimizer.apply_gradients(zip(grads, net.trainable_weights))\n",
    "\n",
    "    # Update training metric.\n",
    "    train_acc_metric.update_state(y_batch_train, logits)\n",
    "    val_acc_metric.update_state(y_batch_val, logits_val)\n",
    "    train_loss_avg.update_state(loss_train)\n",
    "    val_loss_avg.update_state(loss_val)\n",
    "\n",
    "    \n",
    "\n",
    "    if (itr + 1) % 100 == 0:\n",
    "        trainloss = train_loss_avg.result()\n",
    "        valloss = val_loss_avg.result()\n",
    "        plot_train_loss.append(trainloss)\n",
    "        plot_val_loss.append(valloss)\n",
    "        print(\"Training loss/validation loss at iteration %d: %.4f/ %.4f\" % (itr+1, float(trainloss), float(valloss)))\n",
    "        train_acc = train_acc_metric.result()\n",
    "        val_acc = val_acc_metric.result()\n",
    "        plot_train_acc.append(train_acc)\n",
    "        plot_val_acc.append(val_acc)\n",
    "        print('train acc/validation acc at iteration %d: %.4f/%.4f ' % (itr+1, float(train_acc), float(val_acc)))\n",
    "        print(\"Time taken: %.2fs\" % (time.time() - start_time))\n",
    "        print(\"Seen so far: %s samples\" % ((itr + 1) * batchsize))\n",
    "        train_acc_metric.reset_states()\n",
    "        val_acc_metric.reset_states()\n",
    "        train_loss_avg.reset_states()\n",
    "        val_loss_avg.reset_states()\n",
    "        start_time = time.time()\n",
    "        print(\"\")\n",
    "    if ((itr + 1) * batchsize) >= (train_sample * (epoch+1)) :\n",
    "        epoch = epoch +1\n",
    "        print(\"\")\n",
    "        print(\"Training loss/validation loss at end of epoch %d (iteration %d): %.4f/ %.4f\" % (epoch, itr+1,  float(trainloss), float(valloss)))\n",
    "        print(\"\")\n",
    "        #save_path = manager.save()\n",
    "\n",
    "    \n",
    "test_accuracy = tf.keras.metrics.Accuracy()\n",
    "i = 0\n",
    "accuracy = 0\n",
    "for x, y in tensordata_test.batch(100):\n",
    "    logits = net(x, training=False)\n",
    "    prediction = tf.math.argmax(tf.nn.softmax(logits), axis=1, output_type=tf.int64)\n",
    "    i += 1\n",
    "    accuracy += test_accuracy(prediction, y)\n",
    "test_acc = accuracy/i\n",
    "print(\"Test set accuracy: {:.3%}\".format(test_acc))\n",
    "net.save_weights('weights_test.h5')\n",
    "\n"
   ]
  },
  {
   "cell_type": "code",
   "execution_count": 1,
   "metadata": {
    "vscode": {
     "languageId": "python"
    }
   },
   "outputs": [
    {
     "name": "stderr",
     "output_type": "stream",
     "text": [
      "2023-01-30 11:08:10.974059: I tensorflow/stream_executor/platform/default/dso_loader.cc:49] Successfully opened dynamic library libcudart.so.10.1\n"
     ]
    }
   ],
   "source": [
    "import tensorflow as tf\n",
    "from ArchGan import load_network\n",
    "from SNIP_GAN import SNIP_GAN"
   ]
  },
  {
   "cell_type": "code",
   "execution_count": 2,
   "metadata": {
    "vscode": {
     "languageId": "python"
    }
   },
   "outputs": [
    {
     "name": "stderr",
     "output_type": "stream",
     "text": [
      "2023-01-30 11:08:13.932323: I tensorflow/compiler/jit/xla_cpu_device.cc:41] Not creating XLA devices, tf_xla_enable_xla_devices not set\n",
      "2023-01-30 11:08:13.933293: I tensorflow/stream_executor/platform/default/dso_loader.cc:49] Successfully opened dynamic library libcuda.so.1\n",
      "2023-01-30 11:08:14.008553: I tensorflow/core/common_runtime/gpu/gpu_device.cc:1720] Found device 0 with properties: \n",
      "pciBusID: 0000:3b:00.0 name: Quadro RTX 8000 computeCapability: 7.5\n",
      "coreClock: 1.77GHz coreCount: 72 deviceMemorySize: 47.46GiB deviceMemoryBandwidth: 625.94GiB/s\n",
      "2023-01-30 11:08:14.008744: I tensorflow/core/common_runtime/gpu/gpu_device.cc:1720] Found device 1 with properties: \n",
      "pciBusID: 0000:af:00.0 name: Quadro RTX 8000 computeCapability: 7.5\n",
      "coreClock: 1.77GHz coreCount: 72 deviceMemorySize: 47.46GiB deviceMemoryBandwidth: 625.94GiB/s\n",
      "2023-01-30 11:08:14.008759: I tensorflow/stream_executor/platform/default/dso_loader.cc:49] Successfully opened dynamic library libcudart.so.10.1\n",
      "2023-01-30 11:08:14.010204: I tensorflow/stream_executor/platform/default/dso_loader.cc:49] Successfully opened dynamic library libcublas.so.10\n",
      "2023-01-30 11:08:14.010260: I tensorflow/stream_executor/platform/default/dso_loader.cc:49] Successfully opened dynamic library libcublasLt.so.10\n",
      "2023-01-30 11:08:14.011812: I tensorflow/stream_executor/platform/default/dso_loader.cc:49] Successfully opened dynamic library libcufft.so.10\n",
      "2023-01-30 11:08:14.012048: I tensorflow/stream_executor/platform/default/dso_loader.cc:49] Successfully opened dynamic library libcurand.so.10\n",
      "2023-01-30 11:08:14.013594: I tensorflow/stream_executor/platform/default/dso_loader.cc:49] Successfully opened dynamic library libcusolver.so.10\n",
      "2023-01-30 11:08:14.014351: I tensorflow/stream_executor/platform/default/dso_loader.cc:49] Successfully opened dynamic library libcusparse.so.10\n",
      "2023-01-30 11:08:14.017640: I tensorflow/stream_executor/platform/default/dso_loader.cc:49] Successfully opened dynamic library libcudnn.so.7\n",
      "2023-01-30 11:08:14.018287: I tensorflow/core/common_runtime/gpu/gpu_device.cc:1862] Adding visible gpu devices: 0, 1\n",
      "2023-01-30 11:08:14.018632: I tensorflow/core/platform/cpu_feature_guard.cc:142] This TensorFlow binary is optimized with oneAPI Deep Neural Network Library (oneDNN) to use the following CPU instructions in performance-critical operations:  SSE4.1 SSE4.2 AVX AVX2 AVX512F FMA\n",
      "To enable them in other operations, rebuild TensorFlow with the appropriate compiler flags.\n",
      "2023-01-30 11:08:14.020093: I tensorflow/compiler/jit/xla_gpu_device.cc:99] Not creating XLA devices, tf_xla_enable_xla_devices not set\n",
      "2023-01-30 11:08:14.206913: I tensorflow/core/common_runtime/gpu/gpu_device.cc:1720] Found device 0 with properties: \n",
      "pciBusID: 0000:3b:00.0 name: Quadro RTX 8000 computeCapability: 7.5\n",
      "coreClock: 1.77GHz coreCount: 72 deviceMemorySize: 47.46GiB deviceMemoryBandwidth: 625.94GiB/s\n",
      "2023-01-30 11:08:14.207094: I tensorflow/core/common_runtime/gpu/gpu_device.cc:1720] Found device 1 with properties: \n",
      "pciBusID: 0000:af:00.0 name: Quadro RTX 8000 computeCapability: 7.5\n",
      "coreClock: 1.77GHz coreCount: 72 deviceMemorySize: 47.46GiB deviceMemoryBandwidth: 625.94GiB/s\n",
      "2023-01-30 11:08:14.207115: I tensorflow/stream_executor/platform/default/dso_loader.cc:49] Successfully opened dynamic library libcudart.so.10.1\n",
      "2023-01-30 11:08:14.207137: I tensorflow/stream_executor/platform/default/dso_loader.cc:49] Successfully opened dynamic library libcublas.so.10\n",
      "2023-01-30 11:08:14.207144: I tensorflow/stream_executor/platform/default/dso_loader.cc:49] Successfully opened dynamic library libcublasLt.so.10\n",
      "2023-01-30 11:08:14.207150: I tensorflow/stream_executor/platform/default/dso_loader.cc:49] Successfully opened dynamic library libcufft.so.10\n",
      "2023-01-30 11:08:14.207156: I tensorflow/stream_executor/platform/default/dso_loader.cc:49] Successfully opened dynamic library libcurand.so.10\n",
      "2023-01-30 11:08:14.207162: I tensorflow/stream_executor/platform/default/dso_loader.cc:49] Successfully opened dynamic library libcusolver.so.10\n",
      "2023-01-30 11:08:14.207169: I tensorflow/stream_executor/platform/default/dso_loader.cc:49] Successfully opened dynamic library libcusparse.so.10\n",
      "2023-01-30 11:08:14.207175: I tensorflow/stream_executor/platform/default/dso_loader.cc:49] Successfully opened dynamic library libcudnn.so.7\n",
      "2023-01-30 11:08:14.207675: I tensorflow/core/common_runtime/gpu/gpu_device.cc:1862] Adding visible gpu devices: 0, 1\n",
      "2023-01-30 11:08:14.207704: I tensorflow/stream_executor/platform/default/dso_loader.cc:49] Successfully opened dynamic library libcudart.so.10.1\n",
      "2023-01-30 11:08:14.876990: I tensorflow/core/common_runtime/gpu/gpu_device.cc:1261] Device interconnect StreamExecutor with strength 1 edge matrix:\n",
      "2023-01-30 11:08:14.877022: I tensorflow/core/common_runtime/gpu/gpu_device.cc:1267]      0 1 \n",
      "2023-01-30 11:08:14.877027: I tensorflow/core/common_runtime/gpu/gpu_device.cc:1280] 0:   N Y \n",
      "2023-01-30 11:08:14.877029: I tensorflow/core/common_runtime/gpu/gpu_device.cc:1280] 1:   Y N \n",
      "2023-01-30 11:08:14.877791: I tensorflow/core/common_runtime/gpu/gpu_device.cc:1406] Created TensorFlow device (/job:localhost/replica:0/task:0/device:GPU:0 with 45381 MB memory) -> physical GPU (device: 0, name: Quadro RTX 8000, pci bus id: 0000:3b:00.0, compute capability: 7.5)\n",
      "2023-01-30 11:08:14.878481: I tensorflow/core/common_runtime/gpu/gpu_device.cc:1406] Created TensorFlow device (/job:localhost/replica:0/task:0/device:GPU:1 with 45390 MB memory) -> physical GPU (device: 1, name: Quadro RTX 8000, pci bus id: 0000:af:00.0, compute capability: 7.5)\n",
      "2023-01-30 11:08:15.550311: I tensorflow/stream_executor/platform/default/dso_loader.cc:49] Successfully opened dynamic library libcublas.so.10\n",
      "2023-01-30 11:08:15.750329: I tensorflow/stream_executor/platform/default/dso_loader.cc:49] Successfully opened dynamic library libcudnn.so.7\n"
     ]
    }
   ],
   "source": [
    "(train_images, train_labels), (_, _) = tf.keras.datasets.mnist.load_data()\n",
    "train_images = train_images.reshape(train_images.shape[0], 28, 28, 1).astype('float32')\n",
    "train_images = (train_images-127.5)/127.5\n",
    "\n",
    "BUFFER_SIZE = 60000\n",
    "BATCH_SIZE = 200\n",
    "# Batch and shuffle the data\n",
    "train_dataset = tf.data.Dataset.from_tensor_slices(train_images).shuffle(BUFFER_SIZE).batch(BATCH_SIZE)\n",
    "#load model\n",
    "datasource = 'mnist'\n",
    "arch = 'dcgan_mnist'\n",
    "latent_dim = 100\n",
    "initializer1 = tf.initializers.variance_scaling()\n",
    "initializer2 = tf.initializers.variance_scaling()\n",
    "model = load_network(datasource, arch, latent_dim,BATCH_SIZE, initializer1, initializer2)\n",
    "#load pruned weights\n",
    "target_sparsity = 0.9\n",
    "batchtype = 'equal'\n",
    "final_w_disc, mask_disc, final_w_gen, mask_gen = SNIP_GAN(model, target_sparsity, BATCH_SIZE, batchtype)"
   ]
  },
  {
   "cell_type": "code",
   "execution_count": 3,
   "metadata": {
    "vscode": {
     "languageId": "python"
    }
   },
   "outputs": [
    {
     "data": {
      "text/plain": [
       "dict_keys(['w1_conv', 'w2_conv', 'w3_conv', 'w4_conv', 'w5_fc'])"
      ]
     },
     "execution_count": 3,
     "metadata": {},
     "output_type": "execute_result"
    }
   ],
   "source": [
    "mask_disc.keys()"
   ]
  },
  {
   "cell_type": "code",
   "execution_count": 4,
   "metadata": {
    "vscode": {
     "languageId": "python"
    }
   },
   "outputs": [
    {
     "data": {
      "text/plain": [
       "dict_keys(['w1_fc', 'w2_Dconv', 'w3_Dconv', 'w4_Dconv', 'w5_Dconv'])"
      ]
     },
     "execution_count": 4,
     "metadata": {},
     "output_type": "execute_result"
    }
   ],
   "source": [
    "mask_gen.keys()"
   ]
  },
  {
   "cell_type": "code",
   "execution_count": 5,
   "metadata": {
    "vscode": {
     "languageId": "python"
    }
   },
   "outputs": [
    {
     "data": {
      "text/plain": [
       "dict_keys(['w1_fc', 'w2_Dconv', 'w3_Dconv', 'w4_Dconv', 'w5_Dconv'])"
      ]
     },
     "execution_count": 5,
     "metadata": {},
     "output_type": "execute_result"
    }
   ],
   "source": [
    "final_w_gen.keys()"
   ]
  },
  {
   "cell_type": "code",
   "execution_count": 6,
   "metadata": {
    "vscode": {
     "languageId": "python"
    }
   },
   "outputs": [
    {
     "data": {
      "text/plain": [
       "TensorShape([100, 6272])"
      ]
     },
     "execution_count": 6,
     "metadata": {},
     "output_type": "execute_result"
    }
   ],
   "source": [
    "mask_gen['w1_fc'].shape"
   ]
  },
  {
   "cell_type": "code",
   "execution_count": 7,
   "metadata": {
    "vscode": {
     "languageId": "python"
    }
   },
   "outputs": [
    {
     "data": {
      "text/plain": [
       "TensorShape([100, 6272])"
      ]
     },
     "execution_count": 7,
     "metadata": {},
     "output_type": "execute_result"
    }
   ],
   "source": [
    "final_w_gen['w1_fc'].shape"
   ]
  }
 ],
 "metadata": {
  "kernelspec": {
   "display_name": "mainenv",
   "language": "python",
   "name": "mainenv"
  },
  "orig_nbformat": 4
 },
 "nbformat": 4,
 "nbformat_minor": 2
}
